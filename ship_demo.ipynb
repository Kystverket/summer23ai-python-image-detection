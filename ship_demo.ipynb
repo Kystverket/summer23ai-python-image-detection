{
 "cells": [
  {
   "cell_type": "markdown",
   "metadata": {},
   "source": [
    "# Image detection exmple: Excavator\n",
    "This notebook shows how you can import data from a `Excel` sheet, run our detector.py file on the data, and lastly add it to a new Excel file.\n",
    "\\\\\n",
    "We start by importing our nessecary packages."
   ]
  },
  {
   "cell_type": "code",
   "execution_count": null,
   "metadata": {},
   "outputs": [],
   "source": [
    "import cv2              #used to read and write images\n",
    "import numpy as np      #Used to manipulate image tensors into images\n",
    "import pandas as pd     #Used to get a dataframe from the excel sheets\n",
    "import requests         #Used to load images"
   ]
  },
  {
   "cell_type": "markdown",
   "metadata": {},
   "source": [
    "We start by loading our Excel sheet into a `Pandas` dataframe. This sheet contains info on different ships and their unique `IMO` number."
   ]
  },
  {
   "cell_type": "code",
   "execution_count": null,
   "metadata": {},
   "outputs": [],
   "source": [
    "df = pd.read_excel(\"excel/skipsListe.xlsx\")\n",
    "imo_column = df[\"imo\"]\n",
    "imo_list = list(imo_column)"
   ]
  },
  {
   "cell_type": "markdown",
   "metadata": {},
   "source": [
    "We create a helper function for loading images from `ship-info.com`. This is simply done using the IMO number."
   ]
  },
  {
   "cell_type": "code",
   "execution_count": null,
   "metadata": {},
   "outputs": [],
   "source": [
    "def load_image_by_imo(imo):\n",
    "    image_url = \"https://www.ship-info.com/Vessels/\" + str(imo) + \".jpg\"    # URL to the image of the ship\n",
    "    response = requests.get(image_url)                                      \n",
    "    if response.status_code != 200: return None                             # If we dont find a image we can't classify\n",
    "    image_array = np.asarray(bytearray(response.content), dtype=np.uint8)   # We convert the raw data into a image\n",
    "    image = cv2.imdecode(image_array, cv2.IMREAD_COLOR)\n",
    "    return image"
   ]
  },
  {
   "cell_type": "markdown",
   "metadata": {},
   "source": [
    "Next we load the `detector.py` script. This script is made to simplify the `YOLO` model in the `ultralytics` packages.\n",
    "\\\\\n",
    "The `find_objects_image()` function returns a set of in the form of `(object, probability)`. This gives all the detected objects in the image and their corresponding probability. More info about this method can be found in the `README.md` file.\n",
    "\\\\\n",
    "In this case we loop trough the 100 first values in the IMO list (this can be changed), and save the classified values."
   ]
  },
  {
   "cell_type": "code",
   "execution_count": null,
   "metadata": {},
   "outputs": [],
   "source": [
    "from detector import Detector\n",
    "detector = Detector(\"models/excavatorV8s.pt\")\n",
    "classifier_dictonary = {}\n",
    "\n",
    "for imo in imo_list[0:100]:\n",
    "    image = load_image_by_imo(imo)\n",
    "    if image is not None:   # if we can load the image, save the classified tuples\n",
    "        classifier_dictonary[imo] = detector.find_objects_image(image)    #\n",
    "    else:                   # If we cant find image, return defualt\n",
    "        classifier_dictonary[imo] = [(\"No image found\",0)]                                "
   ]
  },
  {
   "cell_type": "markdown",
   "metadata": {},
   "source": [
    "We take our dictonary of IMO numbers and their classified objects, and add them to the dataframe. Lastly we convert the dataframe to a new Excel sheet."
   ]
  },
  {
   "cell_type": "code",
   "execution_count": null,
   "metadata": {},
   "outputs": [],
   "source": [
    "df[\"classes\"] = [\"No image found\"]*(df.shape[0])    #add default values\n",
    "df[\"confidence\"] = [0]*(df.shape[0])\n",
    "\n",
    "for imo, array in classifier_dictonary.items():     #run trough all images and there predicted objects\n",
    "    if len(array) == 0: continue                    #nothing classified\n",
    "    class_string = \"\"                               #return strings to be put in excel\n",
    "    confidence_string = \"\"\n",
    "    for tuple in array:\n",
    "        class_string += tuple[0] + \" \"              #add found objects\n",
    "        confidence_string += str(round((tuple[1]),2)) + \" \"\n",
    "   \n",
    "    df.loc[df[\"imo\"] == imo, \"classes\"] = class_string #add it to their respective imo number\n",
    "    df.loc[df[\"imo\"] == imo, \"confidence\"] = confidence_string\n",
    "    \n",
    "df.to_excel(\"excel/test.xlsx\", index=False)         #Make a new Excel file from the dataframe"
   ]
  },
  {
   "cell_type": "markdown",
   "metadata": {},
   "source": [
    "Note: This creates a Excel file with no styling. The reader may add styling if neccesary."
   ]
  }
 ],
 "metadata": {
  "kernelspec": {
   "display_name": "Python 3",
   "language": "python",
   "name": "python3"
  },
  "language_info": {
   "codemirror_mode": {
    "name": "ipython",
    "version": 3
   },
   "file_extension": ".py",
   "mimetype": "text/x-python",
   "name": "python",
   "nbconvert_exporter": "python",
   "pygments_lexer": "ipython3",
   "version": "3.7.9"
  },
  "orig_nbformat": 4
 },
 "nbformat": 4,
 "nbformat_minor": 2
}
