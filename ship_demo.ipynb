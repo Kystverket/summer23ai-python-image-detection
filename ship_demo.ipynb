{
 "cells": [
  {
   "cell_type": "code",
   "execution_count": 142,
   "metadata": {},
   "outputs": [],
   "source": [
    "import cv2\n",
    "import numpy as np\n",
    "import pandas as pd\n",
    "import requests"
   ]
  },
  {
   "cell_type": "code",
   "execution_count": 143,
   "metadata": {},
   "outputs": [],
   "source": [
    "df = pd.read_excel(\"excel/skipsListe.xlsx\")\n",
    "imo_column = df[\"imo\"]\n",
    "imo_list = list(imo_column)"
   ]
  },
  {
   "cell_type": "code",
   "execution_count": 144,
   "metadata": {},
   "outputs": [],
   "source": [
    "def load_image_by_imo(imo):\n",
    "    image_url = \"https://www.ship-info.com/Vessels/\" + str(imo) + \".jpg\" # Replace with your image URL\n",
    "    response = requests.get(image_url)\n",
    "    if response.status_code != 200: return None\n",
    "    image_array = np.asarray(bytearray(response.content), dtype=np.uint8)\n",
    "    image = cv2.imdecode(image_array, cv2.IMREAD_COLOR)\n",
    "    return image"
   ]
  },
  {
   "cell_type": "code",
   "execution_count": 145,
   "metadata": {},
   "outputs": [
    {
     "name": "stdout",
     "output_type": "stream",
     "text": [
      "\n"
     ]
    },
    {
     "name": "stderr",
     "output_type": "stream",
     "text": [
      "\n",
      "0: 384x640 (no detections), 154.0ms\n",
      "Speed: 6.0ms preprocess, 154.0ms inference, 1.0ms postprocess per image at shape (1, 3, 384, 640)\n",
      "\n",
      "0: 384x640 1 Gravemaskin, 145.0ms\n",
      "Speed: 2.0ms preprocess, 145.0ms inference, 1.0ms postprocess per image at shape (1, 3, 384, 640)\n",
      "\n",
      "0: 384x640 (no detections), 144.9ms\n",
      "Speed: 3.0ms preprocess, 144.9ms inference, 0.0ms postprocess per image at shape (1, 3, 384, 640)\n",
      "\n",
      "0: 384x640 (no detections), 141.0ms\n",
      "Speed: 3.0ms preprocess, 141.0ms inference, 0.0ms postprocess per image at shape (1, 3, 384, 640)\n",
      "\n",
      "0: 384x640 (no detections), 146.0ms\n",
      "Speed: 3.0ms preprocess, 146.0ms inference, 0.0ms postprocess per image at shape (1, 3, 384, 640)\n",
      "\n",
      "0: 384x640 1 Gravemaskin, 141.0ms\n",
      "Speed: 2.0ms preprocess, 141.0ms inference, 1.0ms postprocess per image at shape (1, 3, 384, 640)\n",
      "\n",
      "0: 384x640 1 Gravemaskin, 149.0ms\n",
      "Speed: 2.0ms preprocess, 149.0ms inference, 1.0ms postprocess per image at shape (1, 3, 384, 640)\n",
      "\n",
      "0: 384x640 (no detections), 147.0ms\n",
      "Speed: 2.0ms preprocess, 147.0ms inference, 0.0ms postprocess per image at shape (1, 3, 384, 640)\n",
      "\n",
      "0: 384x640 1 Gravemaskin, 144.0ms\n",
      "Speed: 3.0ms preprocess, 144.0ms inference, 1.0ms postprocess per image at shape (1, 3, 384, 640)\n",
      "\n",
      "0: 384x640 1 Gravemaskin, 157.0ms\n",
      "Speed: 3.0ms preprocess, 157.0ms inference, 1.0ms postprocess per image at shape (1, 3, 384, 640)\n"
     ]
    }
   ],
   "source": [
    "from detector import Detector\n",
    "detector = Detector(\"models/excavatorV8s.pt\")\n",
    "classifier_dictonary = {}\n",
    "#classifier_list = []\n",
    "print(\"\")\n",
    "for imo in imo_list[0:10]:\n",
    "    image = load_image_by_imo(imo)\n",
    "    if image is not None: classifier_dictonary[imo] = detector.find_objects_image(image)\n",
    "    else: classifier_dictonary[imo] = [(\"No image found\",0)] #could not load image\n",
    "\n",
    "\n",
    "\n",
    "   \n",
    "    "
   ]
  },
  {
   "cell_type": "code",
   "execution_count": 147,
   "metadata": {},
   "outputs": [],
   "source": [
    "df[\"classes\"] = [\"None\"]*(df.shape[0])\n",
    "df[\"confidence\"] = [0]*(df.shape[0])\n",
    "#classifier_list = list(classifier_dictonary.values()) # we do not care about the imo\n",
    "\n",
    "for imo, array in classifier_dictonary.items():\n",
    "    if len(array) == 0: continue #nothing classified\n",
    "    class_string = \"\"\n",
    "    confidence_string = \"\"\n",
    "    for tuple in array:\n",
    "        class_string += tuple[0] + \" \"\n",
    "        confidence_string += str(round((tuple[1]),2)) + \" \"\n",
    "    #df[\"classes\"][i] = class_string\n",
    "    df.loc[df[\"imo\"] == imo, \"classes\"] = class_string\n",
    "    df.loc[df[\"imo\"] == imo, \"confidence\"] = confidence_string\n",
    "    #df[\"confidence\"][i] = confidence_string\n",
    " \n",
    "\n",
    "\n",
    "        \n",
    "\n",
    "\n",
    "\n",
    "df.to_excel(\"excel/test.xlsx\", index=False)"
   ]
  }
 ],
 "metadata": {
  "kernelspec": {
   "display_name": "Python 3",
   "language": "python",
   "name": "python3"
  },
  "language_info": {
   "codemirror_mode": {
    "name": "ipython",
    "version": 3
   },
   "file_extension": ".py",
   "mimetype": "text/x-python",
   "name": "python",
   "nbconvert_exporter": "python",
   "pygments_lexer": "ipython3",
   "version": "3.7.9"
  },
  "orig_nbformat": 4
 },
 "nbformat": 4,
 "nbformat_minor": 2
}
